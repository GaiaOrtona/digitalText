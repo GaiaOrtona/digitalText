{
 "cells": [
  {
   "cell_type": "code",
   "execution_count": 1,
   "metadata": {},
   "outputs": [],
   "source": [
    "from bs4 import BeautifulSoup"
   ]
  },
  {
   "cell_type": "code",
   "execution_count": 20,
   "metadata": {},
   "outputs": [
    {
     "name": "stdout",
     "output_type": "stream",
     "text": [
      "<item xml:id=\"Psicologiadi1uomo\">Psicologia di 1 uomo</item>\n",
      "<item xml:id=\"Progettofuturistadireclutamentoperlaprossimaguerra\">Progetto futurista di reclutamento per la prossima guerra</item>\n",
      "<item xml:id=\"Salaconferenzepalazzopostepalermo\">sala conferenze sono esposti cinque pannelli</item>\n",
      "<item xml:id=\"Leforzeumane\">Le forze umane</item>\n",
      "<item xml:id=\"Viaggiodigararà\">Viaggio di Gararà</item>\n",
      "<item xml:id=\"Astraeilsottomarino\">Astra e il sottomarino</item>\n",
      "<item xml:id=\"Unpiccologessoraffigurantemiriamchedorme\">un piccolo gesso raffigurante Miriam che dorme</item>\n",
      "<item xml:id=\"Decorazionecaffèaragno\">decorazione del Caffè Aragno</item>\n",
      "<item xml:id=\"Iprimitelai\">i primi Telai</item>\n",
      "<item xml:id=\"Monumento\">monumento</item>\n"
     ]
    }
   ],
   "source": [
    "path = 'produced_data/raw_data/visionarieheaderitem.xml'\n",
    "\n",
    "with open(path, 'r', encoding='utf-8') as f:\n",
    "\n",
    "    soup = BeautifulSoup(f, features='xml')\n",
    "\n",
    "    persName = [para.get_text() for para in soup.find_all('placeName')]\n",
    "\n",
    "    for i in soup.find_all('item'):\n",
    "        i['xml:id'] = i['xml:id'][:1].upper() + i['xml:id'][1:]\n",
    "        print(i)"
   ]
  }
 ],
 "metadata": {
  "kernelspec": {
   "display_name": "Python 3",
   "language": "python",
   "name": "python3"
  },
  "language_info": {
   "codemirror_mode": {
    "name": "ipython",
    "version": 3
   },
   "file_extension": ".py",
   "mimetype": "text/x-python",
   "name": "python",
   "nbconvert_exporter": "python",
   "pygments_lexer": "ipython3",
   "version": "3.11.6"
  }
 },
 "nbformat": 4,
 "nbformat_minor": 2
}
