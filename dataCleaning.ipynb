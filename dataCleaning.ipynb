{
 "cells": [
  {
   "cell_type": "code",
   "execution_count": 27,
   "metadata": {},
   "outputs": [],
   "source": [
    "from bs4 import BeautifulSoup\n",
    "import lxml"
   ]
  },
  {
   "cell_type": "code",
   "execution_count": 30,
   "metadata": {},
   "outputs": [
    {
     "data": {
      "text/plain": [
       "{'Accademia di Belle Arti',\n",
       " 'Austria',\n",
       " 'Bologna',\n",
       " 'Egitto',\n",
       " 'Europa',\n",
       " 'Firenze',\n",
       " 'Francia',\n",
       " 'Genova',\n",
       " 'Germania',\n",
       " 'Grecia',\n",
       " 'Inghilterra',\n",
       " 'Italia',\n",
       " 'Kaunas',\n",
       " 'Londra',\n",
       " 'Madrid',\n",
       " 'Milano',\n",
       " 'Montmartre',\n",
       " 'Napoli',\n",
       " 'New York',\n",
       " 'Palermo',\n",
       " 'Parigi',\n",
       " 'Parma',\n",
       " 'Pisa',\n",
       " 'Roma',\n",
       " 'Russia',\n",
       " 'Senna',\n",
       " 'Sicilia',\n",
       " 'Spagna',\n",
       " 'Stati Uniti',\n",
       " 'Torino',\n",
       " 'Toscana',\n",
       " 'Venezia',\n",
       " 'Vienna',\n",
       " 'Villa Borghese'}"
      ]
     },
     "execution_count": 30,
     "metadata": {},
     "output_type": "execute_result"
    }
   ],
   "source": [
    "path = 'produced_data/header.xml'\n",
    "\n",
    "with open(path, 'r', encoding='utf-8') as f:\n",
    "\n",
    "    soup = BeautifulSoup(f, features='xml')\n",
    "\n",
    "    persName = [para.get_text() for para in soup.find_all('placeName')]\n",
    "\n",
    "singleentity = set(persName)\n",
    "singleentitylist = [x for x in singleentity]\n",
    "result =[]\n",
    "for i in singleentitylist:\n",
    "    persName.remove(i)\n",
    "\n",
    "set(persName)"
   ]
  }
 ],
 "metadata": {
  "kernelspec": {
   "display_name": "Python 3",
   "language": "python",
   "name": "python3"
  },
  "language_info": {
   "codemirror_mode": {
    "name": "ipython",
    "version": 3
   },
   "file_extension": ".py",
   "mimetype": "text/x-python",
   "name": "python",
   "nbconvert_exporter": "python",
   "pygments_lexer": "ipython3",
   "version": "3.11.6"
  }
 },
 "nbformat": 4,
 "nbformat_minor": 2
}
