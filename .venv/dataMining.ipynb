{
 "cells": [
  {
   "cell_type": "markdown",
   "metadata": {},
   "source": [
    "### Dependencies\n",
    "This code uses __spaCy__ as model engine and the __it_core_news_lg__ as model, being this the one having the most accuracy level (0.88) in NER tasks.\n",
    "The algorithm opens the target file and pass it to the previously specified spacy model, ran locally. The function serves the purpose of injecting any given string, in our case it will be used to quickly mark all the named entities with the base tag of TEI, it will be enriched with proper metadata and attributes, implemented manually or through a data scraping function.\n",
    "\n",
    "\\#In terms of efficiency it is good practice to run first the spacy model in the second cell and then working with the following ones.<br>\n",
    "\\#The code needs spacy and the specified model to run locally."
   ]
  },
  {
   "cell_type": "code",
   "execution_count": 1,
   "metadata": {},
   "outputs": [],
   "source": [
    "import spacy"
   ]
  },
  {
   "cell_type": "code",
   "execution_count": 4,
   "metadata": {},
   "outputs": [],
   "source": [
    "path = './data/noHeader.txt'\n",
    "\n",
    "with open(path, 'r', encoding='utf-8') as f:\n",
    "    txt = f.read()\n",
    "    nlp = spacy.load('it_core_news_lg')\n",
    "    doc = nlp(txt)"
   ]
  },
  {
   "cell_type": "code",
   "execution_count": null,
   "metadata": {},
   "outputs": [],
   "source": [
    "def insertString(string, doc, open, close, label):\n",
    "        castedString = list(string)\n",
    "        for i in doc.ents:\n",
    "            if i.label_ == label:\n",
    "                castedString[i.start_char-1] = castedString[i.start_char-1] + open\n",
    "                castedString[i.end_char-1] = castedString[i.end_char-1] + close\n",
    "\n",
    "        return ''.join(castedString)\n",
    "\n",
    "print(insertString(txt, doc, ' <placename> ', ' </placename> ', 'LOC'))"
   ]
  }
 ],
 "metadata": {
  "kernelspec": {
   "display_name": ".venv",
   "language": "python",
   "name": "python3"
  },
  "language_info": {
   "codemirror_mode": {
    "name": "ipython",
    "version": 3
   },
   "file_extension": ".py",
   "mimetype": "text/x-python",
   "name": "python",
   "nbconvert_exporter": "python",
   "pygments_lexer": "ipython3",
   "version": "3.10.11"
  },
  "orig_nbformat": 4
 },
 "nbformat": 4,
 "nbformat_minor": 2
}
