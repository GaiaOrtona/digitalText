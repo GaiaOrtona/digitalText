{
 "cells": [
  {
   "cell_type": "code",
   "execution_count": 14,
   "metadata": {},
   "outputs": [],
   "source": [
    "from bs4 import BeautifulSoup\n",
    "\n",
    "path = 'produced_data/compagne.xml'\n",
    "# path2 = 'produced_data/visionarie.xml'\n",
    "\n",
    "with open(path, 'r', encoding='utf-8')as f:\n",
    "    f = f.read()\n",
    "    doc = BeautifulSoup(f, 'html.parser')\n",
    "\n",
    "element = doc.find_all('place')\n",
    "\n",
    "# print(element)\n",
    "\n",
    "ids = list()\n",
    "result = list()\n",
    "for i in element:\n",
    "    id = i.get('id')\n",
    "    element = i.get_text()\n",
    "    template = f\"<place xml:id='{id}'><placeName>{element}</placeName></place>\"\n",
    "    if id not in ids:\n",
    "            result.append(template)\n",
    "    ids.append(id)\n",
    "            \n",
    "\n",
    "deduplicated = list()\n",
    "for i in result:\n",
    "    if i not in deduplicated:\n",
    "        deduplicated.append(i)        \n",
    "\n",
    "\n",
    "with open('compagneheaderplace.xml', 'w', encoding='utf-8') as f:\n",
    "    f.write(';'.join(deduplicated))"
   ]
  }
 ],
 "metadata": {
  "kernelspec": {
   "display_name": "Python 3",
   "language": "python",
   "name": "python3"
  },
  "language_info": {
   "codemirror_mode": {
    "name": "ipython",
    "version": 3
   },
   "file_extension": ".py",
   "mimetype": "text/x-python",
   "name": "python",
   "nbconvert_exporter": "python",
   "pygments_lexer": "ipython3",
   "version": "3.11.6"
  }
 },
 "nbformat": 4,
 "nbformat_minor": 2
}
